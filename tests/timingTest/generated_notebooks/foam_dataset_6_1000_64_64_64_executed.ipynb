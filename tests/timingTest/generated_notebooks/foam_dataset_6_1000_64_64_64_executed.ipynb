{
 "cells": [
  {
   "cell_type": "code",
   "execution_count": 1,
   "id": "hearing-wilderness",
   "metadata": {
    "execution": {
     "iopub.execute_input": "2023-06-08T14:36:14.147946Z",
     "iopub.status.busy": "2023-06-08T14:36:14.147679Z",
     "iopub.status.idle": "2023-06-08T14:36:14.854137Z",
     "shell.execute_reply": "2023-06-08T14:36:14.853378Z"
    }
   },
   "outputs": [],
   "source": [
    "import numpy as np\n",
    "import matplotlib.pyplot as plt\n",
    "import os\n",
    "import importlib.util\n",
    "from skimage.feature import peak_local_max\n",
    "from skimage.morphology import watershed\n",
    "from scipy import ndimage as snd\n",
    "from matplotlib.colors import ListedColormap\n",
    "from matplotlib import cm"
   ]
  },
  {
   "cell_type": "code",
   "execution_count": 2,
   "id": "furnished-thousand",
   "metadata": {
    "execution": {
     "iopub.execute_input": "2023-06-08T14:36:14.857073Z",
     "iopub.status.busy": "2023-06-08T14:36:14.856771Z",
     "iopub.status.idle": "2023-06-08T14:36:14.864391Z",
     "shell.execute_reply": "2023-06-08T14:36:14.863749Z"
    }
   },
   "outputs": [],
   "source": [
    "def analyze_data(input_filename):\n",
    "    print(\"analyze_data\")\n",
    "    # Load data\n",
    "    data = np.load(input_filename)\n",
    "\n",
    "    # Watershed: Identify separate pores\n",
    "    distance = snd.distance_transform_edt((data == 0))\n",
    "    local_maxi = peak_local_max(distance, indices=False, footprint=np.ones((3, 3, 3)), labels=(data == 0))\n",
    "    markers = snd.label(local_maxi)[0]\n",
    "    labels = watershed(-distance, markers, mask=(data == 0))\n",
    "\n",
    "    # Pore color map\n",
    "    somecmap = cm.get_cmap('magma', 256)\n",
    "    cvals = np.random.uniform(0, 1, len(np.unique(labels)))\n",
    "    newcmp = ListedColormap(somecmap(cvals))\n",
    "\n",
    "    # Plot statistics: pore radii\n",
    "    volumes = np.array([np.sum(labels == label) for label in np.unique(labels)])\n",
    "    volumes.sort()\n",
    "    # Ignore two largest labels (background and matrix)\n",
    "    radii = (volumes[:-2] * 3 / (4 * np.pi)) ** (1 / 3)  # Find radii, assuming spherical pores\n",
    "    _ = plt.hist(radii, bins=200)\n",
    "\n",
    "    # Save plot\n",
    "    filename_without_npy = input_filename.split(os.path.sep)[-1].split('.')[0]\n",
    "    filename_save = filename_without_npy + '_statistics.png'\n",
    "    output_filedir = \"test_job_output\"  # specify your output directory here\n",
    "\n",
    "    os.makedirs(output_filedir, exist_ok=True)\n",
    "    plt.savefig(os.path.join(output_filedir, filename_save))"
   ]
  },
  {
   "cell_type": "code",
   "execution_count": 3,
   "id": "guided-sustainability",
   "metadata": {
    "execution": {
     "iopub.execute_input": "2023-06-08T14:36:14.866897Z",
     "iopub.status.busy": "2023-06-08T14:36:14.866666Z",
     "iopub.status.idle": "2023-06-08T14:36:14.874052Z",
     "shell.execute_reply": "2023-06-08T14:36:14.873383Z"
    }
   },
   "outputs": [],
   "source": [
    "def check_porosity(input_filename):\n",
    "    input_filename = input_filename\n",
    "    output_filedir_accepted = 'foam_ct_data_accepted'\n",
    "    output_filedir_discarded = 'foam_ct_data_discarded'\n",
    "    porosity_lower_threshold = 0.8\n",
    "    utils_path = '../idmc_utils_module.py'\n",
    "\n",
    "    # Load the custom utils module\n",
    "    spec = importlib.util.spec_from_file_location(\"utils\", utils_path)\n",
    "    utils = importlib.util.module_from_spec(spec)\n",
    "    spec.loader.exec_module(utils)\n",
    "\n",
    "    # Parameters\n",
    "    n_samples = 10000\n",
    "\n",
    "    # Load data\n",
    "    ct_data = np.load(input_filename)\n",
    "\n",
    "    # Plot center slices\n",
    "    utils.plot_center_slices(ct_data)\n",
    "\n",
    "    # Perform GMM fitting on samples from the dataset\n",
    "    sample_inds = np.random.randint(0, len(ct_data.ravel()), n_samples)\n",
    "    n_components = 2\n",
    "    means, stds, weights = utils.perform_GMM_np(\n",
    "        ct_data.ravel()[sample_inds],\n",
    "        n_components,\n",
    "        plot=True,\n",
    "        title='GMM fitted to ' + str(n_samples) + ' of ' +\n",
    "        str(len(ct_data.ravel())) + ' datapoints')\n",
    "    print('weights:', weights)\n",
    "\n",
    "    # Classify data as 'accepted' or 'discarded' according to porosity level\n",
    "    filename_without_npy = input_filename.split(os.path.sep)[-1].split('.')[0]\n",
    "\n",
    "    if np.max(weights) > porosity_lower_threshold:\n",
    "        os.makedirs(output_filedir_accepted, exist_ok=True)\n",
    "        acc_path = os.path.join(output_filedir_accepted, filename_without_npy + '.txt')\n",
    "        with open(acc_path, 'w') as file:\n",
    "            file.write(str(np.max(weights)) + ' ' + str(np.min(weights)))\n",
    "    else:\n",
    "        os.makedirs(output_filedir_discarded, exist_ok=True)\n",
    "        dis_path = os.path.join(output_filedir_discarded, filename_without_npy + '.txt')\n",
    "        with open(dis_path, 'w') as file:\n",
    "            file.write(str(np.max(weights)) + ' ' + str(np.min(weights)))"
   ]
  },
  {
   "cell_type": "code",
   "execution_count": 4,
   "id": "sealed-destruction",
   "metadata": {
    "execution": {
     "iopub.execute_input": "2023-06-08T14:36:14.876421Z",
     "iopub.status.busy": "2023-06-08T14:36:14.876207Z",
     "iopub.status.idle": "2023-06-08T14:36:21.471889Z",
     "shell.execute_reply": "2023-06-08T14:36:21.470800Z"
    }
   },
   "outputs": [
    {
     "name": "stdout",
     "output_type": "stream",
     "text": [
      "analyze_data\n"
     ]
    },
    {
     "name": "stderr",
     "output_type": "stream",
     "text": [
      "<ipython-input-2-a084c0a12c3a>:8: FutureWarning: indices argument is deprecated and will be removed in version 0.20. To avoid this warning, please do not use the indices argument. Please see peak_local_max documentation for more details.\n",
      "  local_maxi = peak_local_max(distance, indices=False, footprint=np.ones((3, 3, 3)), labels=(data == 0))\n"
     ]
    },
    {
     "name": "stderr",
     "output_type": "stream",
     "text": [
      "/home/ibli/.local/lib/python3.10/site-packages/skimage/morphology/_deprecated.py:5: skimage_deprecation: Function ``watershed`` is deprecated and will be removed in version 0.19. Use ``skimage.segmentation.watershed`` instead.\n",
      "  def watershed(image, markers=None, connectivity=1, offset=None, mask=None,\n",
      "<ipython-input-2-a084c0a12c3a>:13: MatplotlibDeprecationWarning: The get_cmap function was deprecated in Matplotlib 3.7 and will be removed two minor releases later. Use ``matplotlib.colormaps[name]`` or ``matplotlib.colormaps.get_cmap(obj)`` instead.\n",
      "  somecmap = cm.get_cmap('magma', 256)\n"
     ]
    },
    {
     "name": "stderr",
     "output_type": "stream",
     "text": [
      "/home/ibli/Documents/GitHub/meowBa/tests/timingTest/generated_notebooks/../idmc_utils_module.py:73: RuntimeWarning: divide by zero encountered in divide\n",
      "  gaussian = lambda x, mu, s, A: A*np.exp(-0.5*(x-mu)**2/s**2)/np.sqrt(2*np.pi*s**2)\n",
      "/home/ibli/Documents/GitHub/meowBa/tests/timingTest/generated_notebooks/../idmc_utils_module.py:73: RuntimeWarning: invalid value encountered in divide\n",
      "  gaussian = lambda x, mu, s, A: A*np.exp(-0.5*(x-mu)**2/s**2)/np.sqrt(2*np.pi*s**2)\n"
     ]
    },
    {
     "name": "stdout",
     "output_type": "stream",
     "text": [
      "weights: [0.8505, 0.1495]\n"
     ]
    },
    {
     "data": {
      "image/png": "[encoded data removed]",
      "text/plain": [
       "<Figure size 432x288 with 1 Axes>"
      ]
     },
     "metadata": {
      "needs_background": "light"
     },
     "output_type": "display_data"
    },
    {
     "data": {
      "image/png": "[encoded data removed]",
      "text/plain": [
       "<Figure size 1080x360 with 3 Axes>"
      ]
     },
     "metadata": {
      "needs_background": "light"
     },
     "output_type": "display_data"
    },
    {
     "data": {
      "image/png": "[encoded data removed]",
      "text/plain": [
       "<Figure size 1152x576 with 1 Axes>"
      ]
     },
     "metadata": {
      "needs_background": "light"
     },
     "output_type": "display_data"
    }
   ],
   "source": [
    "analyze_data('../test_data/foam_ct_data/foam_dataset_6_1000_64_64_64.npy') \n",
    "check_porosity('../test_data/foam_ct_data/foam_dataset_6_1000_64_64_64.npy')"
   ]
  }
 ],
 "metadata": {
  "language_info": {
   "codemirror_mode": {
    "name": "ipython",
    "version": 3
   },
   "file_extension": ".py",
   "mimetype": "text/x-python",
   "name": "python",
   "nbconvert_exporter": "python",
   "pygments_lexer": "ipython3",
   "version": "3.10.6"
  }
 },
 "nbformat": 4,
 "nbformat_minor": 5
}
